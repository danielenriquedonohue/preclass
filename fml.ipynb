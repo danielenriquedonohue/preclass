{
 "cells": [
  {
   "cell_type": "code",
   "execution_count": 2,
   "metadata": {},
   "outputs": [
    {
     "name": "stdout",
     "output_type": "stream",
     "text": [
      "('bob', 'bill', 'billy', 'fuck')\n"
     ]
    }
   ],
   "source": [
    "list=('bob','bill','billy','fuck')\n",
    "print(list)\n"
   ]
  }
 ],
 "metadata": {
  "kernelspec": {
   "display_name": "Python 3.10.8 64-bit (microsoft store)",
   "language": "python",
   "name": "python3"
  },
  "language_info": {
   "codemirror_mode": {
    "name": "ipython",
    "version": 3
   },
   "file_extension": ".py",
   "mimetype": "text/x-python",
   "name": "python",
   "nbconvert_exporter": "python",
   "pygments_lexer": "ipython3",
   "version": "3.10.8"
  },
  "orig_nbformat": 4,
  "vscode": {
   "interpreter": {
    "hash": "600fcf9ce39b662a502cfd950b7f75e8a293f6144a09b50700ee888d1d1c1c20"
   }
  }
 },
 "nbformat": 4,
 "nbformat_minor": 2
}
