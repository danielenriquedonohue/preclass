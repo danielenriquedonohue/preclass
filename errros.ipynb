{
 "cells": [
  {
   "cell_type": "code",
   "execution_count": 1,
   "metadata": {},
   "outputs": [
    {
     "name": "stdout",
     "output_type": "stream",
     "text": [
      "['fuck', 'shit', 0, 'meow']\n"
     ]
    }
   ],
   "source": [
    "testy = ['fuck','shit',0,\"meow\"]\n",
    "print(testy)\n"
   ]
  }
 ],
 "metadata": {
  "kernelspec": {
   "display_name": "Python 3.10.8 64-bit (microsoft store)",
   "language": "python",
   "name": "python3"
  },
  "language_info": {
   "codemirror_mode": {
    "name": "ipython",
    "version": 3
   },
   "file_extension": ".py",
   "mimetype": "text/x-python",
   "name": "python",
   "nbconvert_exporter": "python",
   "pygments_lexer": "ipython3",
   "version": "3.10.8"
  },
  "orig_nbformat": 4,
  "vscode": {
   "interpreter": {
    "hash": "e95657baf907a37f2e916cb102341fe6ff56ddbadd9542462571d09e43676a66"
   }
  }
 },
 "nbformat": 4,
 "nbformat_minor": 2
}
